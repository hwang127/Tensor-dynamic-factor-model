{
 "cells": [
  {
   "cell_type": "code",
   "execution_count": 1,
   "metadata": {},
   "outputs": [],
   "source": [
    "from statsmodels.tsa.arima_process import  arma_generate_sample\n",
    "def generate_ARMA_sample(ar,ma,T):\n",
    "    #np.random.seed(12345)\n",
    "    arparams = np.array(ar)\n",
    "    maparams = np.array(ma)\n",
    "    ar = np.r_[1, -arparams] # add zero-lag and negate\n",
    "    ma = np.r_[1, maparams] # add zero-lag\n",
    "    y = sm.tsa.arma_generate_sample(ar, ma, T,1)\n",
    "    return y\n",
    "def generate_matrix_test_data(p1,p2,T):\n",
    "    coeff_1=[0.3,0.5,0.8]\n",
    "    coeff_2=[-0.2,-0.4,-0.6]\n",
    "    choice_1=np.random.choice(coeff_1,size=6)\n",
    "    choice_2=np.random.choice(coeff_2,size=6)\n",
    "    f=np.array([generate_ARMA_sample([choice_1[i],choice_2[i]],[],T,) for i in range(6)]).reshape([3,2,T])\n",
    "    #print(f.shape)\n",
    "    ran_matrix=np.random.randn(p1,p1)\n",
    "    U, s, Vh = linalg.svd(ran_matrix)\n",
    "    R=U[:,:3]\n",
    "    #print(R.shape)\n",
    "    ran_matrix=np.random.randn(p2,p2)\n",
    "    U, s, Vh = linalg.svd(ran_matrix)\n",
    "    C=U[:,:2]\n",
    "    #print(C.shape)\n",
    "    \n",
    "    ran_matrix=np.random.randn(p1,p1)\n",
    "    U, s, Vh = linalg.svd(ran_matrix)\n",
    "    P=U[:,:4]\n",
    "    #print(Left.shape)\n",
    "    ran_matrix=np.random.randn(p2,p2)\n",
    "    U, s, Vh = linalg.svd(ran_matrix)\n",
    "    D=U[:,:3]\n",
    "    #print(Right.shape)\n",
    "    ran_matrix=np.random.randn(4,3,T)\n",
    "    y=np.einsum('ik,klt,jl->ijt',R,f,C)+np.einsum('ik,klt,jl->ijt',P,ran_matrix,D)+np.random.normal(size=[p1,p2,T])\n",
    "    return y,R,C,f,P,D,ran_matrix"
   ]
  },
  {
   "cell_type": "code",
   "execution_count": 26,
   "metadata": {},
   "outputs": [],
   "source": [
    "%run functions.ipynb \n",
    "%run matrix_DFM_class.ipynb"
   ]
  },
  {
   "cell_type": "code",
   "execution_count": 33,
   "metadata": {},
   "outputs": [
    {
     "name": "stdout",
     "output_type": "stream",
     "text": [
      "[0.9883606312407002]\n",
      "[0.9898334239341615]\n",
      "[0.9917335093278777]\n",
      "[0.9842819041364859]\n",
      "[0.9787223192002996]\n",
      "[0.9883832962826772]\n",
      "[0.9885728664183345]\n",
      "[0.9752211055973693]\n",
      "[0.9831750799313916]\n",
      "[0.9907521248274574]\n",
      "[0.9873141896141755]\n",
      "[0.9901673924868556]\n",
      "[0.9912505815484919]\n",
      "[0.9841447290993678]\n",
      "[0.9859648514674219]\n",
      "[0.9862830626364425]\n",
      "[0.9647617172925849]\n",
      "[0.9882438781823015]\n",
      "[0.9674556336808411]\n",
      "[0.9882021038847223]\n",
      "[0.9880886962419713]\n",
      "[0.9856127032891753]\n",
      "[0.9872180084223898]\n",
      "[0.9873461040466395]\n",
      "[0.9860655771046302]\n",
      "[0.990292824115317]\n",
      "[0.9910652385036443]\n",
      "[0.989243476667713]\n",
      "[0.9889648673357158]\n",
      "[0.9895492214657478]\n"
     ]
    }
   ],
   "source": [
    "np.random.seed(0)\n",
    "for i in range(30):\n",
    "    err=[]\n",
    "    y,R,C,f=generate_matrix_test_data(20,25,1000)\n",
    "    model=MDFM(y,5)\n",
    "    model.fit()\n",
    "    #print(trace_stat(R.T,model.left_loading.T),trace_stat(C.T,model.right_loading.T))\n",
    "    #model.iter_fit(100,0.01)\n",
    "    #err.append(min(trace_stat(R.T,model.left_loading.T),trace_stat(C.T,model.right_loading.T)))\n",
    "    #model=MDFM(y,5)\n",
    "    #model.fit()\n",
    "    model.iter_fit(100,0.001)\n",
    "    err.append(min(trace_stat(R.T,model.left_loading.T),trace_stat(C.T,model.right_loading.T)))\n",
    "    print(err)"
   ]
  },
  {
   "cell_type": "code",
   "execution_count": 555,
   "metadata": {},
   "outputs": [
    {
     "name": "stdout",
     "output_type": "stream",
     "text": [
      "0.9221468989087725\n"
     ]
    }
   ],
   "source": [
    "#y,R,C,f=generate_matrix_test_data(25,25,1000)\n",
    "model=MDFM(y,5)\n",
    "model.outer_fit()\n",
    "print(min(trace_stat(R.T,model.left_loading.T),trace_stat(C.T,model.right_loading.T)))"
   ]
  },
  {
   "cell_type": "code",
   "execution_count": null,
   "metadata": {},
   "outputs": [],
   "source": []
  }
 ],
 "metadata": {
  "kernelspec": {
   "display_name": "Python 3",
   "language": "python",
   "name": "python3"
  },
  "language_info": {
   "codemirror_mode": {
    "name": "ipython",
    "version": 3
   },
   "file_extension": ".py",
   "mimetype": "text/x-python",
   "name": "python",
   "nbconvert_exporter": "python",
   "pygments_lexer": "ipython3",
   "version": "3.7.3"
  }
 },
 "nbformat": 4,
 "nbformat_minor": 2
}
