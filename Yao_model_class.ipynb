{
 "cells": [
  {
   "cell_type": "code",
   "execution_count": 2,
   "metadata": {},
   "outputs": [],
   "source": [
    "import numpy.linalg as linalg\n",
    "class Yao():\n",
    "    def __init__(self, data,  max_lag_to_check):\n",
    "        self.observations=data\n",
    "        self.max_lag=max_lag_to_check\n",
    "        self.n_factor=None\n",
    "        self.M=None\n",
    "        self.loading=None\n",
    "        self.factors=None\n",
    "    def fit(self):\n",
    "        def auto_cov(y,k):\n",
    "            \"\"\"calculate the auto covariance matrix of vector time series y with its k-lagged version.\n",
    "            y is an numpy array of dimension p*T\"\"\"\n",
    "            mean=np.array([np.mean(y,axis=1)]).T\n",
    "            #print(mean)\n",
    "            T=y.shape[1]\n",
    "            y_t=y\n",
    "            y_t_plus_k=np.roll(y_t,-k,axis=1)\n",
    "            y_t=y_t[:,:T-k]-mean\n",
    "            y_t_plus_k=y_t_plus_k[:,:T-k]-mean\n",
    "\n",
    "            return y_t_plus_k@(y_t.T)/(T-k)\n",
    "        \n",
    "        def construct_M(y,k_0):\n",
    "            Sigma=auto_cov(y,1)\n",
    "            M=Sigma@(Sigma.T)\n",
    "            for k in range(2,k_0+1):\n",
    "                Sigma=auto_cov(y,k)\n",
    "                M=M+Sigma@(Sigma.T)\n",
    "            return M\n",
    "\n",
    "        def eigen_decomp(M):\n",
    "            eigenValues, eigenVectors = linalg.eig(M)\n",
    "\n",
    "            idx = eigenValues.argsort()[::-1]   \n",
    "            eigenValues = eigenValues[idx]\n",
    "            eigenVectors = eigenVectors[:,idx]\n",
    "\n",
    "            return eigenValues,eigenVectors\n",
    "        \n",
    "        def select_r(eigen_Values):\n",
    "            limit=len(eigen_Values)//2+1\n",
    "            e_values=eigen_Values[:limit]\n",
    "            ratios=np.roll(e_values,-1)[:-1]/e_values[:-1]\n",
    "            print(ratios)\n",
    "            return np.argmin(ratios)+1\n",
    "        \n",
    "        self.M=construct_M(self.observations,self.max_lag)\n",
    "        \n",
    "        eigenValues,eigenVectors=eigen_decomp(self.M)\n",
    "        \n",
    "        self.n_factor=select_r(eigenValues)\n",
    "        \n",
    "        self.loading=eigenVectors[:,:self.n_factor]\n",
    "        \n",
    "        self.factors=self.loading.T@self.observations"
   ]
  },
  {
   "cell_type": "code",
   "execution_count": null,
   "metadata": {},
   "outputs": [],
   "source": []
  }
 ],
 "metadata": {
  "kernelspec": {
   "display_name": "Python 3",
   "language": "python",
   "name": "python3"
  },
  "language_info": {
   "codemirror_mode": {
    "name": "ipython",
    "version": 3
   },
   "file_extension": ".py",
   "mimetype": "text/x-python",
   "name": "python",
   "nbconvert_exporter": "python",
   "pygments_lexer": "ipython3",
   "version": "3.7.3"
  }
 },
 "nbformat": 4,
 "nbformat_minor": 2
}
