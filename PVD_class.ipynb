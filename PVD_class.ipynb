{
 "cells": [
  {
   "cell_type": "code",
   "execution_count": 28,
   "metadata": {},
   "outputs": [],
   "source": [
    "import numpy as np\n",
    "%run functions.ipynb"
   ]
  },
  {
   "cell_type": "code",
   "execution_count": 3,
   "metadata": {},
   "outputs": [],
   "source": [
    "from numpy.linalg import svd\n",
    "class PVD():\n",
    "    def __init__(self, data):\n",
    "        self.observations=data\n",
    "        self.left_loading=None\n",
    "        self.right_loading=None\n",
    "        self.core=None\n",
    "        self.residual=None\n",
    "    def fit(self):\n",
    "        T=self.observations.shape[2]\n",
    "        k=min(self.observations.shape[0],self.observations.shape[1])\n",
    "        P=[]\n",
    "        Q=[]\n",
    "        for t in range(T):\n",
    "            matrix=self.observations[:,:,t]\n",
    "            U,Sigma,D=svd(matrix)\n",
    "            #k=select_r(Sigma)\n",
    "            #print(k)\n",
    "            P.append((U[:,:k]@np.diag(Sigma[:k])))\n",
    "            #print(P[-1].shape)\n",
    "            Q.append((D.T[:,:k]@np.diag(Sigma[:k])))\n",
    "            \n",
    "        #P=np.array(P)\n",
    "        #Q=np.array(Q)\n",
    "        #print(P.shape,Q.shape)\n",
    "\n",
    "        P=np.hstack(P)\n",
    "        Q=np.hstack(Q)\n",
    "        #print(P.shape,Q.shape)\n",
    "        def eigen_decomp(M):\n",
    "            eigenValues, eigenVectors = linalg.eig(M)\n",
    "\n",
    "            idx = eigenValues.argsort()[::-1]   \n",
    "            eigenValues = eigenValues[idx]\n",
    "            eigenVectors = eigenVectors[:,idx]\n",
    "            return np.real(eigenValues),np.real(eigenVectors)\n",
    "        \n",
    "        \n",
    "        #L,_,__=svd(P)\n",
    "        #print(_)\n",
    "        evalue,L=eigen_decomp(P@P.T)\n",
    "        r1=select_r(evalue)\n",
    "        #R,_,__=svd(Q)\n",
    "        #print(_)\n",
    "        evalue,R=eigen_decomp(Q@Q.T)\n",
    "        r2=select_r(evalue)\n",
    "        self.left_loading= L[:,:r1]\n",
    "        self.right_loading= R[:,:r2]\n",
    "        self.core=np.einsum('ik,klt,lj->ijt',self.left_loading.T,self.observations,self.right_loading)\n",
    "        self.residual=self.observations-np.einsum('ik,klt,lj->ijt',self.left_loading,self.core,self.right_loading.T)"
   ]
  },
  {
   "cell_type": "code",
   "execution_count": null,
   "metadata": {},
   "outputs": [],
   "source": []
  }
 ],
 "metadata": {
  "kernelspec": {
   "display_name": "Python 3",
   "language": "python",
   "name": "python3"
  },
  "language_info": {
   "codemirror_mode": {
    "name": "ipython",
    "version": 3
   },
   "file_extension": ".py",
   "mimetype": "text/x-python",
   "name": "python",
   "nbconvert_exporter": "python",
   "pygments_lexer": "ipython3",
   "version": "3.7.3"
  }
 },
 "nbformat": 4,
 "nbformat_minor": 2
}
