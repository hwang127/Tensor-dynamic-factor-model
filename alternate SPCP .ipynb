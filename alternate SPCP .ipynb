{
 "cells": [
  {
   "cell_type": "code",
   "execution_count": 130,
   "metadata": {},
   "outputs": [],
   "source": [
    "%run functions.ipynb\n",
    "%run matrix_DFM_class.ipynb\n",
    "%run PVD_class.ipynb\n",
    "%run SPCP_class.ipynb\n",
    "from numpy.linalg import svd,matrix_rank"
   ]
  },
  {
   "cell_type": "code",
   "execution_count": 163,
   "metadata": {},
   "outputs": [],
   "source": [
    "M,R,C,f,P,D,risk=generate_matrix_test_data(20,20,10000)"
   ]
  },
  {
   "cell_type": "code",
   "execution_count": 164,
   "metadata": {},
   "outputs": [],
   "source": [
    "#generate an example problem: recover L_0 (and C_0) when given M_0\n",
    "rho = .01   #proportion of corrupted entries\n",
    "var = 20    #variance of the normal distribution generating the noise\n",
    "def add_noise(L_0, rho, var):\n",
    "    S_0 = np.random.binomial(1,rho, L_0.shape)  #affected entries\n",
    "    N   = np.random.normal(0, var, L_0.shape)   #noise into affected entries\n",
    "    C_0 = S_0 * N\n",
    "\n",
    "    return(C_0 + L_0, C_0)\n",
    "\n",
    "y, C_0 = add_noise(M, rho, var)"
   ]
  },
  {
   "cell_type": "code",
   "execution_count": 145,
   "metadata": {},
   "outputs": [],
   "source": [
    "true_low_rk=np.einsum('im,jn,mnt->ijt',R,C,f)+np.einsum('im,jn,mnt->ijt',P,D,risk)+np.random.normal(0, 0.0001, y.shape)"
   ]
  },
  {
   "cell_type": "code",
   "execution_count": 167,
   "metadata": {},
   "outputs": [
    {
     "data": {
      "text/plain": [
       "array([249.13839041, 243.04176257, 239.74845539, 238.11892209,\n",
       "       232.36549608, 229.36413123, 228.72274376, 228.33414741,\n",
       "       226.52139088, 224.80160217, 223.4265975 , 221.09891386,\n",
       "       219.0154351 , 215.82605869, 213.61941286, 211.27985845,\n",
       "       209.16682699, 207.96279994, 206.70688884, 202.33882173])"
      ]
     },
     "execution_count": 167,
     "metadata": {},
     "output_type": "execute_result"
    }
   ],
   "source": [
    "svd((y)[0,:,:])[1]"
   ]
  },
  {
   "cell_type": "code",
   "execution_count": 166,
   "metadata": {},
   "outputs": [
    {
     "data": {
      "text/plain": [
       "array([131.21853033, 129.35689731, 106.74309849, 106.48681521,\n",
       "       105.12168375, 104.0283607 , 102.80199498, 102.05745185,\n",
       "       101.67273411, 101.09091722, 100.54320293, 100.24793131,\n",
       "        99.62908766,  99.26252033,  99.0892592 ,  98.39484258,\n",
       "        97.98391187,  97.72814209,  97.18763442,  96.94627945])"
      ]
     },
     "execution_count": 166,
     "metadata": {},
     "output_type": "execute_result"
    }
   ],
   "source": [
    "svd(M[0,:,:])[1]"
   ]
  },
  {
   "cell_type": "code",
   "execution_count": 101,
   "metadata": {},
   "outputs": [],
   "source": [
    "model=PVD(new_mat.reshape(20,20,5000))"
   ]
  },
  {
   "cell_type": "code",
   "execution_count": 148,
   "metadata": {},
   "outputs": [],
   "source": [
    "model=PVD(true_low_rk)"
   ]
  },
  {
   "cell_type": "code",
   "execution_count": 149,
   "metadata": {},
   "outputs": [],
   "source": [
    "model.fit()"
   ]
  },
  {
   "cell_type": "code",
   "execution_count": 150,
   "metadata": {},
   "outputs": [
    {
     "data": {
      "text/plain": [
       "0.9999999999961074"
      ]
     },
     "execution_count": 150,
     "metadata": {},
     "output_type": "execute_result"
    }
   ],
   "source": [
    "trace_stat(np.hstack([P,R]).T,model.left_loading.T)"
   ]
  },
  {
   "cell_type": "code",
   "execution_count": 151,
   "metadata": {},
   "outputs": [
    {
     "data": {
      "text/plain": [
       "0.9999999999954838"
      ]
     },
     "execution_count": 151,
     "metadata": {},
     "output_type": "execute_result"
    }
   ],
   "source": [
    "trace_stat(np.hstack([C,D]).T,model.right_loading.T)"
   ]
  },
  {
   "cell_type": "code",
   "execution_count": 152,
   "metadata": {},
   "outputs": [
    {
     "data": {
      "text/plain": [
       "(7, 20)"
      ]
     },
     "execution_count": 152,
     "metadata": {},
     "output_type": "execute_result"
    }
   ],
   "source": [
    "model.left_loading.T.shape"
   ]
  },
  {
   "cell_type": "code",
   "execution_count": 153,
   "metadata": {},
   "outputs": [
    {
     "data": {
      "text/plain": [
       "(5, 20)"
      ]
     },
     "execution_count": 153,
     "metadata": {},
     "output_type": "execute_result"
    }
   ],
   "source": [
    "model.right_loading.T.shape"
   ]
  },
  {
   "cell_type": "code",
   "execution_count": 157,
   "metadata": {},
   "outputs": [
    {
     "name": "stdout",
     "output_type": "stream",
     "text": [
      "20\n",
      "678.1210159675135\n",
      "1\n",
      "610.3089143707622\n",
      "0\n",
      "549.278022933686\n",
      "0\n",
      "494.3502206403174\n",
      "0\n",
      "444.91519857628566\n",
      "0\n",
      "400.42367871865713\n",
      "0\n",
      "360.38131084679145\n",
      "0\n",
      "324.3431797621123\n",
      "0\n",
      "291.9088617859011\n",
      "0\n",
      "262.71797560731096\n",
      "0\n",
      "236.44617804657986\n",
      "0\n",
      "212.8015602419219\n",
      "0\n",
      "191.5214042177297\n",
      "0\n",
      "172.36926379595673\n",
      "0\n",
      "155.13233741636105\n",
      "0\n",
      "141.4213562373095\n",
      "0\n",
      "141.4213562373095\n",
      "0\n",
      "141.4213562373095\n",
      "0\n",
      "141.4213562373095\n",
      "0\n",
      "141.4213562373095\n",
      "0\n",
      "141.4213562373095\n",
      "0\n",
      "141.4213562373095\n",
      "0\n",
      "141.4213562373095\n",
      "0\n",
      "141.4213562373095\n",
      "0\n",
      "141.4213562373095\n",
      "0\n",
      "141.4213562373095\n",
      "0\n",
      "141.4213562373095\n",
      "0\n",
      "141.4213562373095\n",
      "0\n",
      "141.4213562373095\n",
      "0\n",
      "141.4213562373095\n",
      "0\n",
      "141.4213562373095\n",
      "0\n",
      "141.4213562373095\n",
      "0\n",
      "141.4213562373095\n",
      "0\n",
      "141.4213562373095\n",
      "0\n",
      "141.4213562373095\n",
      "0\n",
      "141.4213562373095\n",
      "0\n",
      "141.4213562373095\n",
      "0\n",
      "141.4213562373095\n",
      "0\n",
      "141.4213562373095\n",
      "0\n",
      "141.4213562373095\n",
      "0\n",
      "141.4213562373095\n",
      "0\n",
      "141.4213562373095\n",
      "0\n",
      "141.4213562373095\n",
      "0\n",
      "141.4213562373095\n",
      "0\n",
      "141.4213562373095\n",
      "0\n",
      "141.4213562373095\n",
      "0\n",
      "141.4213562373095\n",
      "0\n",
      "141.4213562373095\n",
      "0\n",
      "141.4213562373095\n",
      "0\n",
      "141.4213562373095\n",
      "0\n",
      "141.4213562373095\n",
      "0\n",
      "141.4213562373095\n",
      "0\n",
      "141.4213562373095\n",
      "0\n",
      "141.4213562373095\n",
      "0\n",
      "141.4213562373095\n",
      "0\n",
      "141.4213562373095\n",
      "0\n",
      "141.4213562373095\n",
      "0\n",
      "141.4213562373095\n",
      "0\n",
      "141.4213562373095\n",
      "0\n",
      "141.4213562373095\n",
      "0\n",
      "141.4213562373095\n",
      "Converged!\n"
     ]
    },
    {
     "data": {
      "text/plain": [
       "0"
      ]
     },
     "execution_count": 157,
     "metadata": {},
     "output_type": "execute_result"
    }
   ],
   "source": [
    "model=StablePCP()\n",
    "model.fit(y[0,:,:])\n",
    "model.get_rank()"
   ]
  },
  {
   "cell_type": "code",
   "execution_count": 82,
   "metadata": {},
   "outputs": [
    {
     "name": "stdout",
     "output_type": "stream",
     "text": [
      "0.5766361375027258\n"
     ]
    }
   ],
   "source": [
    "percentage_error((y-C_0)[0,:,:],y[0,:,:]-model.get_sparse())"
   ]
  },
  {
   "cell_type": "code",
   "execution_count": 169,
   "metadata": {},
   "outputs": [],
   "source": [
    "mat_0=ten2mat(y,0)\n",
    "mat_1=ten2mat(y,1)"
   ]
  },
  {
   "cell_type": "code",
   "execution_count": 170,
   "metadata": {},
   "outputs": [
    {
     "name": "stdout",
     "output_type": "stream",
     "text": [
      "20\n",
      "5000\n",
      "0\n",
      "4500.0\n",
      "0\n",
      "4050.0\n",
      "0\n",
      "3645.0\n",
      "0\n",
      "3280.5\n",
      "0\n",
      "2952.4500000000003\n",
      "0\n",
      "2657.2050000000004\n",
      "0\n",
      "2391.4845000000005\n",
      "0\n",
      "2152.3360500000003\n",
      "0\n",
      "1937.1024450000004\n",
      "0\n",
      "1743.3922005000004\n",
      "0\n",
      "1569.0529804500004\n",
      "0\n",
      "1412.1476824050003\n",
      "0\n",
      "1270.9329141645003\n",
      "0\n",
      "1143.8396227480503\n",
      "0\n",
      "1029.4556604732452\n",
      "0\n",
      "926.5100944259207\n",
      "0\n",
      "833.8590849833287\n",
      "0\n",
      "750.4731764849959\n",
      "0\n",
      "675.4258588364963\n",
      "0\n",
      "607.8832729528467\n",
      "0\n",
      "547.0949456575621\n",
      "0\n",
      "492.3854510918059\n",
      "0\n",
      "443.14690598262536\n",
      "0\n",
      "398.8322153843628\n",
      "0\n",
      "358.94899384592657\n",
      "0\n",
      "323.05409446133393\n",
      "0\n",
      "290.7486850152005\n",
      "0\n",
      "261.6738165136805\n",
      "0\n",
      "235.50643486231246\n",
      "0\n",
      "211.9557913760812\n",
      "0\n",
      "190.7602122384731\n",
      "0\n",
      "171.68419101462578\n",
      "0\n",
      "154.5157719131632\n",
      "0\n",
      "139.0641947218469\n",
      "0\n",
      "125.15777524966221\n",
      "0\n",
      "112.64199772469598\n",
      "0\n",
      "101.37779795222639\n",
      "0\n",
      "91.24001815700375\n",
      "0\n",
      "82.11601634130338\n",
      "0\n",
      "73.90441470717305\n",
      "0\n",
      "66.51397323645574\n",
      "1\n",
      "59.862575912810165\n",
      "1\n",
      "53.87631832152915\n",
      "1\n",
      "48.488686489376235\n",
      "2\n",
      "43.63981784043861\n",
      "2\n",
      "39.27583605639475\n",
      "2\n",
      "35.348252450755275\n",
      "3\n",
      "31.813427205679748\n",
      "4\n",
      "28.632084485111772\n",
      "5\n",
      "25.768876036600595\n",
      "5\n",
      "23.191988432940537\n",
      "5\n",
      "20.872789589646484\n",
      "5\n",
      "18.785510630681834\n",
      "6\n",
      "16.90695956761365\n",
      "6\n",
      "15.216263610852286\n",
      "6\n",
      "13.694637249767057\n",
      "6\n",
      "12.325173524790351\n",
      "6\n",
      "11.092656172311317\n",
      "6\n",
      "9.983390555080186\n",
      "6\n",
      "8.985051499572167\n",
      "6\n",
      "8.08654634961495\n",
      "6\n",
      "7.277891714653456\n",
      "6\n",
      "6.55010254318811\n",
      "6\n",
      "5.895092288869299\n",
      "6\n",
      "5.30558305998237\n",
      "6\n",
      "4.775024753984133\n",
      "6\n",
      "4.29752227858572\n",
      "6\n",
      "3.867770050727148\n",
      "6\n",
      "3.4809930456544333\n",
      "6\n",
      "3.13289374108899\n",
      "6\n",
      "2.8196043669800908\n",
      "6\n",
      "2.5376439302820817\n",
      "6\n",
      "2.2838795372538736\n",
      "6\n",
      "2.0554915835284864\n",
      "6\n",
      "1.8499424251756378\n",
      "7\n",
      "1.664948182658074\n",
      "7\n",
      "1.4984533643922666\n",
      "7\n",
      "1.34860802795304\n",
      "7\n",
      "1.213747225157736\n",
      "7\n",
      "1.0923725026419624\n",
      "7\n",
      "0.9831352523777662\n",
      "7\n",
      "0.8848217271399896\n",
      "7\n",
      "0.7963395544259907\n",
      "7\n",
      "0.7167055989833916\n",
      "7\n",
      "0.6450350390850524\n",
      "7\n",
      "0.5805315351765472\n",
      "7\n",
      "0.5224783816588925\n",
      "7\n",
      "0.47023054349300325\n",
      "7\n",
      "0.42320748914370293\n",
      "7\n",
      "0.38088674022933267\n",
      "7\n",
      "0.3427980662063994\n",
      "7\n",
      "0.30851825958575946\n",
      "7\n",
      "0.2776664336271835\n",
      "7\n",
      "0.24989979026446518\n",
      "6\n",
      "0.22490981123801868\n",
      "6\n",
      "0.20241883011421682\n",
      "6\n",
      "0.18217694710279514\n",
      "6\n",
      "0.16395925239251563\n",
      "6\n",
      "0.14756332715326406\n",
      "6\n",
      "0.13280699443793767\n",
      "6\n",
      "0.11952629499414391\n",
      "6\n",
      "0.10757366549472952\n",
      "6\n",
      "0.09681629894525658\n",
      "6\n",
      "0.08713466905073092\n",
      "6\n",
      "0.07842120214565783\n",
      "6\n",
      "0.07057908193109205\n",
      "6\n",
      "0.06352117373798286\n",
      "6\n",
      "0.057169056364184574\n",
      "6\n",
      "0.05145215072776612\n",
      "6\n",
      "0.04630693565498951\n",
      "6\n",
      "0.041676242089490556\n",
      "6\n",
      "0.0375086178805415\n",
      "6\n",
      "0.03375775609248735\n",
      "6\n",
      "0.030381980483238615\n",
      "6\n",
      "0.027343782434914754\n",
      "6\n",
      "0.024609404191423278\n",
      "6\n",
      "0.02214846377228095\n",
      "6\n",
      "0.019933617395052856\n",
      "6\n",
      "0.01794025565554757\n",
      "6\n",
      "0.016146230089992813\n",
      "6\n",
      "0.014531607080993532\n",
      "6\n",
      "0.013078446372894178\n",
      "6\n",
      "0.01177060173560476\n",
      "6\n",
      "0.010593541562044284\n",
      "6\n",
      "0.009534187405839856\n",
      "6\n",
      "0.00858076866525587\n",
      "6\n",
      "0.007722691798730284\n",
      "6\n",
      "0.006950422618857256\n",
      "6\n",
      "0.00625538035697153\n",
      "6\n",
      "0.005629842321274377\n",
      "6\n",
      "0.0050668580891469394\n",
      "6\n",
      "0.004560172280232246\n",
      "6\n",
      "0.004104155052209021\n",
      "6\n",
      "0.003693739546988119\n",
      "6\n",
      "0.003324365592289307\n",
      "6\n",
      "0.0029919290330603764\n",
      "6\n",
      "0.002692736129754339\n",
      "6\n",
      "0.002423462516778905\n",
      "6\n",
      "0.002181116265101015\n",
      "6\n",
      "0.001963004638590913\n",
      "6\n",
      "0.001766704174731822\n",
      "6\n",
      "0.0015900337572586397\n",
      "6\n",
      "0.0014310303815327759\n",
      "6\n",
      "0.0012879273433794984\n",
      "6\n",
      "0.0011591346090415486\n",
      "6\n",
      "0.0010432211481373938\n",
      "6\n",
      "0.0009388990333236545\n",
      "6\n",
      "0.0008450091299912891\n",
      "6\n",
      "0.0007605082169921602\n",
      "6\n",
      "0.0006844573952929442\n",
      "6\n",
      "0.0006160116557636497\n",
      "6\n",
      "0.0005544104901872847\n",
      "6\n",
      "0.0004989694411685563\n",
      "6\n",
      "0.00044907249705170065\n",
      "6\n",
      "0.0004041652473465306\n",
      "6\n",
      "0.0003637487226118775\n",
      "6\n",
      "0.00032737385035068976\n",
      "6\n",
      "0.0002946364653156208\n",
      "6\n",
      "0.0002651728187840587\n",
      "6\n",
      "0.00023865553690565286\n",
      "6\n",
      "0.0002147899832150876\n",
      "6\n",
      "0.00019331098489357883\n",
      "6\n",
      "0.00017397988640422096\n",
      "6\n",
      "0.00015658189776379886\n",
      "6\n",
      "0.00014092370798741898\n",
      "6\n",
      "0.0001268313371886771\n",
      "6\n",
      "0.00011414820346980938\n",
      "6\n",
      "0.00010273338312282845\n",
      "6\n",
      "9.24600448105456e-05\n",
      "6\n",
      "8.321404032949104e-05\n",
      "6\n",
      "7.489263629654195e-05\n",
      "6\n",
      "6.740337266688775e-05\n",
      "6\n",
      "6.066303540019898e-05\n",
      "6\n",
      "5.4596731860179085e-05\n",
      "6\n",
      "4.913705867416118e-05\n",
      "6\n",
      "4.422335280674506e-05\n",
      "6\n",
      "3.9801017526070554e-05\n",
      "6\n",
      "3.58209157734635e-05\n",
      "6\n",
      "3.2238824196117156e-05\n",
      "6\n",
      "2.901494177650544e-05\n",
      "6\n",
      "2.6113447598854897e-05\n",
      "6\n",
      "2.350210283896941e-05\n",
      "6\n",
      "2.115189255507247e-05\n",
      "6\n",
      "1.903670329956522e-05\n",
      "6\n",
      "1.71330329696087e-05\n",
      "6\n",
      "1.541972967264783e-05\n",
      "6\n",
      "1.3877756705383047e-05\n",
      "6\n",
      "1.2489981034844742e-05\n",
      "6\n",
      "1.1240982931360268e-05\n",
      "6\n",
      "1.0116884638224241e-05\n",
      "6\n",
      "9.105196174401817e-06\n",
      "6\n",
      "8.194676556961635e-06\n",
      "6\n",
      "7.375208901265471e-06\n",
      "6\n",
      "6.637688011138924e-06\n",
      "6\n",
      "5.973919210025032e-06\n",
      "6\n",
      "5.376527289022529e-06\n",
      "6\n",
      "4.838874560120276e-06\n",
      "6\n",
      "4.354987104108248e-06\n",
      "Converged!\n"
     ]
    },
    {
     "data": {
      "text/plain": [
       "6"
      ]
     },
     "execution_count": 170,
     "metadata": {},
     "output_type": "execute_result"
    }
   ],
   "source": [
    "model=StablePCP(mu0=5000,mu_min=0,mu_fixed=False,max_iter=10000)\n",
    "model.fit(mat_0)\n",
    "model.get_rank()"
   ]
  },
  {
   "cell_type": "code",
   "execution_count": 171,
   "metadata": {},
   "outputs": [
    {
     "data": {
      "text/plain": [
       "<matplotlib.image.AxesImage at 0x20e0741c518>"
      ]
     },
     "execution_count": 171,
     "metadata": {},
     "output_type": "execute_result"
    },
    {
     "data": {
      "image/png": "[encoded data removed]",
      "text/plain": [
       "<Figure size 1152x230.4 with 1 Axes>"
      ]
     },
     "metadata": {
      "needs_background": "light"
     },
     "output_type": "display_data"
    }
   ],
   "source": [
    "plt.matshow(model.get_sparse()[:,:100])"
   ]
  },
  {
   "cell_type": "code",
   "execution_count": 172,
   "metadata": {},
   "outputs": [
    {
     "data": {
      "text/plain": [
       "<matplotlib.image.AxesImage at 0x20e07558ef0>"
      ]
     },
     "execution_count": 172,
     "metadata": {},
     "output_type": "execute_result"
    },
    {
     "data": {
      "image/png": "[encoded data removed]",
      "text/plain": [
       "<Figure size 1152x230.4 with 1 Axes>"
      ]
     },
     "metadata": {
      "needs_background": "light"
     },
     "output_type": "display_data"
    }
   ],
   "source": [
    "plt.matshow(C_0.reshape((20,-1))[:,:100])"
   ]
  },
  {
   "cell_type": "code",
   "execution_count": 64,
   "metadata": {},
   "outputs": [
    {
     "name": "stdout",
     "output_type": "stream",
     "text": [
      "0\n",
      "900.0\n",
      "Converged!\n"
     ]
    },
    {
     "data": {
      "text/plain": [
       "array([[[ 0.0036567 , -0.02912658, -0.0117934 , ..., -0.05618461,\n",
       "         -0.04936025, -0.07135953],\n",
       "        [ 0.00071488, -0.00439208, -0.00439791, ...,  0.00300396,\n",
       "          0.00082603,  0.0055581 ],\n",
       "        [-0.00534516,  0.05520548,  0.03966536, ...,  0.01641648,\n",
       "          0.00732843,  0.01828584],\n",
       "        ...,\n",
       "        [-0.00530193, -0.00304178,  0.01976577, ..., -0.01503508,\n",
       "         -0.02829175, -0.02308156],\n",
       "        [-0.00129325, -0.00857018,  0.01181772, ...,  0.00627953,\n",
       "          0.00473604,  0.004424  ],\n",
       "        [-0.02110801,  0.00506883, -0.01112605, ...,  0.05104714,\n",
       "          0.04706862,  0.05238453]],\n",
       "\n",
       "       [[-0.00279525,  0.03340386,  0.02524026, ...,  0.01870334,\n",
       "          0.01873299,  0.00151867],\n",
       "        [ 0.00654926,  0.02045838,  0.02736356, ...,  0.01004314,\n",
       "          0.01737571,  0.01858207],\n",
       "        [-0.00245048,  0.00821323,  0.01291584, ...,  0.01550656,\n",
       "          0.02724973,  0.01482708],\n",
       "        ...,\n",
       "        [-0.02016871,  0.01113161,  0.00771181, ...,  0.04337248,\n",
       "          0.0292823 ,  0.05198543],\n",
       "        [-0.00594253, -0.03189421, -0.0167386 , ...,  0.0627971 ,\n",
       "          0.06483378,  0.08232436],\n",
       "        [-0.00082292,  0.02540122,  0.00092732, ..., -0.01743243,\n",
       "         -0.03693755, -0.02709511]],\n",
       "\n",
       "       [[ 0.01445542, -0.02837242, -0.02076197, ..., -0.02230143,\n",
       "         -0.0203775 , -0.02264801],\n",
       "        [-0.00729573, -0.01981121, -0.02724229, ..., -0.05370603,\n",
       "         -0.07215545, -0.07439695],\n",
       "        [ 0.00650217,  0.00628895,  0.02068974, ..., -0.00267938,\n",
       "          0.00423531, -0.00099982],\n",
       "        ...,\n",
       "        [ 0.00091661, -0.03999405, -0.02639582, ...,  0.02893325,\n",
       "          0.01781855,  0.03471009],\n",
       "        [ 0.0173073 , -0.0221503 , -0.02515652, ..., -0.06971383,\n",
       "         -0.0829979 , -0.08347434],\n",
       "        [ 0.01535804, -0.01346011, -0.01799138, ..., -0.02770035,\n",
       "         -0.02902115, -0.02690597]],\n",
       "\n",
       "       ...,\n",
       "\n",
       "       [[ 0.01980204, -0.0161303 , -0.02897034, ...,  0.04738012,\n",
       "          0.05140137,  0.04349651],\n",
       "        [ 0.0065349 ,  0.01328361, -0.00233335, ...,  0.01068967,\n",
       "         -0.00265019,  0.00832927],\n",
       "        [ 0.01515382,  0.01810149,  0.01880495, ...,  0.02914385,\n",
       "          0.03084087,  0.02941028],\n",
       "        ...,\n",
       "        [ 0.00348945, -0.01554305, -0.02245089, ...,  0.00341995,\n",
       "          0.00154625,  0.0008868 ],\n",
       "        [-0.00630785, -0.02115684, -0.0279934 , ..., -0.0068486 ,\n",
       "         -0.00187951,  0.00481234],\n",
       "        [-0.02283132,  0.02787471, -0.00102314, ...,  0.05787482,\n",
       "          0.06495078,  0.07405535]],\n",
       "\n",
       "       [[ 0.00888791,  0.01136574,  0.01234654, ...,  0.0071271 ,\n",
       "         -0.0048146 ,  0.01768393],\n",
       "        [ 0.02073036, -0.00911539, -0.00350958, ..., -0.06369396,\n",
       "         -0.06297654, -0.08379562],\n",
       "        [ 0.00104248,  0.00971258,  0.00304868, ..., -0.01327268,\n",
       "          0.00472925, -0.018866  ],\n",
       "        ...,\n",
       "        [ 0.02213283, -0.02431038, -0.00648958, ...,  0.04540508,\n",
       "          0.04546382,  0.0680164 ],\n",
       "        [ 0.01895904, -0.02901216, -0.01522525, ...,  0.03925542,\n",
       "          0.04261931,  0.03226808],\n",
       "        [-0.01029867, -0.03210548, -0.02875466, ...,  0.0284826 ,\n",
       "          0.03915429,  0.01561894]],\n",
       "\n",
       "       [[ 0.01188285,  0.00268467,  0.01424235, ..., -0.01275006,\n",
       "         -0.0218121 , -0.00687155],\n",
       "        [ 0.01478023, -0.00578459, -0.01195184, ..., -0.03287752,\n",
       "         -0.04140862, -0.05186701],\n",
       "        [-0.02160741,  0.0252753 ,  0.02076094, ..., -0.10475235,\n",
       "         -0.09697645, -0.11576866],\n",
       "        ...,\n",
       "        [-0.01620251, -0.02742251, -0.00681361, ...,  0.00673555,\n",
       "          0.01439995, -0.00210069],\n",
       "        [-0.0086042 , -0.02220829, -0.02091702, ...,  0.03273203,\n",
       "          0.03460949,  0.04114921],\n",
       "        [ 0.0079984 ,  0.00988885,  0.01202685, ...,  0.00089748,\n",
       "         -0.01035425,  0.00302575]]])"
      ]
     },
     "execution_count": 64,
     "metadata": {},
     "output_type": "execute_result"
    }
   ],
   "source": [
    "sparse_0=model.get_sparse()\n",
    "new_mat=mat_0-sparse_0\n",
    "new_mat.reshape(20,20,5000)\n",
    "mat_1=ten2mat(new_mat,1)\n",
    "model.fit(mat_1)\n",
    "sparse_1=model.get_sparse()\n",
    "new_mat=mat_1-sparse_1\n",
    "new_mat.reshape(20,20,5000)"
   ]
  },
  {
   "cell_type": "code",
   "execution_count": 24,
   "metadata": {},
   "outputs": [
    {
     "data": {
      "text/plain": [
       "<matplotlib.image.AxesImage at 0x1de5c3b6898>"
      ]
     },
     "execution_count": 24,
     "metadata": {},
     "output_type": "execute_result"
    },
    {
     "data": {
      "image/png": "[encoded data removed]",
      "text/plain": [
       "<Figure size 1152x230.4 with 1 Axes>"
      ]
     },
     "metadata": {
      "needs_background": "light"
     },
     "output_type": "display_data"
    }
   ],
   "source": [
    "plt.matshow((y-C_0)[0,:,:100])"
   ]
  },
  {
   "cell_type": "code",
   "execution_count": 25,
   "metadata": {},
   "outputs": [
    {
     "data": {
      "text/plain": [
       "<matplotlib.image.AxesImage at 0x1de5ce8b128>"
      ]
     },
     "execution_count": 25,
     "metadata": {},
     "output_type": "execute_result"
    },
    {
     "data": {
      "image/png": "[encoded data removed]",
      "text/plain": [
       "<Figure size 1152x230.4 with 1 Axes>"
      ]
     },
     "metadata": {
      "needs_background": "light"
     },
     "output_type": "display_data"
    }
   ],
   "source": [
    "plt.matshow(new[0,:,:100])"
   ]
  },
  {
   "cell_type": "code",
   "execution_count": 26,
   "metadata": {},
   "outputs": [
    {
     "name": "stdout",
     "output_type": "stream",
     "text": [
      "0.5910203341005333\n"
     ]
    }
   ],
   "source": [
    "percentage_error(y-C_0,new)"
   ]
  },
  {
   "cell_type": "code",
   "execution_count": 27,
   "metadata": {},
   "outputs": [
    {
     "name": "stdout",
     "output_type": "stream",
     "text": [
      "6.171693391967358\n"
     ]
    }
   ],
   "source": [
    "percentage_error(y-C_0,y)"
   ]
  },
  {
   "cell_type": "code",
   "execution_count": null,
   "metadata": {},
   "outputs": [],
   "source": []
  }
 ],
 "metadata": {
  "kernelspec": {
   "display_name": "Python 3",
   "language": "python",
   "name": "python3"
  },
  "language_info": {
   "codemirror_mode": {
    "name": "ipython",
    "version": 3
   },
   "file_extension": ".py",
   "mimetype": "text/x-python",
   "name": "python",
   "nbconvert_exporter": "python",
   "pygments_lexer": "ipython3",
   "version": "3.7.3"
  }
 },
 "nbformat": 4,
 "nbformat_minor": 2
}
